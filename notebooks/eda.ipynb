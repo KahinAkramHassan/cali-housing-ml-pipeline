{
 "cells": [
  {
   "cell_type": "code",
   "execution_count": 1,
   "metadata": {},
   "outputs": [],
   "source": [
    "#Exploratory Data Analysis (EDA)\n",
    "#Created 06/20/22 10:00am\n",
    "#Author: Kahin Akram Hassan\n",
    "\n",
    "#====================================Docs==================================================\n",
    "%matplotlib inline\n",
    "import sys\n",
    "import geopandas as geopd\n",
    "import plotly.express as px\n",
    "import matplotlib.pyplot as plt\n",
    "\n",
    "sys.path.append(\"../\")\n",
    "from src import data_helpers as data"
   ]
  },
  {
   "cell_type": "code",
   "execution_count": 2,
   "metadata": {},
   "outputs": [
    {
     "name": "stdout",
     "output_type": "stream",
     "text": [
      "The file \"housing.csv\" already exists under \"../data/raw/\".\n"
     ]
    }
   ],
   "source": [
    "# Fetch and load the data\n",
    "data.load_housing_data()\n",
    "housing = data.read_csv_file()"
   ]
  },
  {
   "cell_type": "code",
   "execution_count": 3,
   "metadata": {},
   "outputs": [
    {
     "name": "stdout",
     "output_type": "stream",
     "text": [
      "16267 Train +  4373 test\n"
     ]
    }
   ],
   "source": [
    "# Split the data into train and test sets\n",
    "train_set, test_set = data.split_train_test_id(housing,0.2,'id')\n",
    "print(len(train_set), 'Train + ', len(test_set), 'test')"
   ]
  },
  {
   "cell_type": "code",
   "execution_count": 4,
   "metadata": {},
   "outputs": [],
   "source": [
    "# Stratified sampling based on the income category\n",
    "strat_train_set, strat_test_set = data.stratisfied_split_train_test(housing,0.2, \"income_cat\")"
   ]
  },
  {
   "cell_type": "code",
   "execution_count": null,
   "metadata": {},
   "outputs": [],
   "source": []
  }
 ],
 "metadata": {
  "kernelspec": {
   "display_name": "Python 3.9.12 ('cali')",
   "language": "python",
   "name": "python3"
  },
  "language_info": {
   "codemirror_mode": {
    "name": "ipython",
    "version": 3
   },
   "file_extension": ".py",
   "mimetype": "text/x-python",
   "name": "python",
   "nbconvert_exporter": "python",
   "pygments_lexer": "ipython3",
   "version": "3.9.12"
  },
  "orig_nbformat": 4,
  "vscode": {
   "interpreter": {
    "hash": "b22a17daf8bff8053186f3f9acde9579fc5d550bd00397df2457ac566fe48108"
   }
  }
 },
 "nbformat": 4,
 "nbformat_minor": 2
}
