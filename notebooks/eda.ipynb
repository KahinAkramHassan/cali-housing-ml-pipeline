{
 "cells": [
  {
   "cell_type": "code",
   "execution_count": 2,
   "metadata": {},
   "outputs": [
    {
     "ename": "ModuleNotFoundError",
     "evalue": "No module named 'src'",
     "output_type": "error",
     "traceback": [
      "\u001b[1;31m---------------------------------------------------------------------------\u001b[0m",
      "\u001b[1;31mModuleNotFoundError\u001b[0m                       Traceback (most recent call last)",
      "\u001b[1;32m~\\AppData\\Local\\Temp/ipykernel_1516/2531401350.py\u001b[0m in \u001b[0;36m<module>\u001b[1;34m\u001b[0m\n\u001b[0;32m     19\u001b[0m \u001b[1;33m\u001b[0m\u001b[0m\n\u001b[0;32m     20\u001b[0m \u001b[0msys\u001b[0m\u001b[1;33m.\u001b[0m\u001b[0mpath\u001b[0m\u001b[1;33m.\u001b[0m\u001b[0mappend\u001b[0m\u001b[1;33m(\u001b[0m\u001b[1;34m\"./\"\u001b[0m\u001b[1;33m)\u001b[0m\u001b[1;33m\u001b[0m\u001b[1;33m\u001b[0m\u001b[0m\n\u001b[1;32m---> 21\u001b[1;33m \u001b[1;32mfrom\u001b[0m \u001b[0msrc\u001b[0m\u001b[1;33m.\u001b[0m\u001b[0mdata_prep\u001b[0m \u001b[1;32mimport\u001b[0m \u001b[0mdata_helpers\u001b[0m \u001b[1;32mas\u001b[0m \u001b[0mdata\u001b[0m\u001b[1;33m\u001b[0m\u001b[1;33m\u001b[0m\u001b[0m\n\u001b[0m\u001b[0;32m     22\u001b[0m \u001b[1;31m#Dash layouts and callbacks\u001b[0m\u001b[1;33m\u001b[0m\u001b[1;33m\u001b[0m\u001b[0m\n\u001b[0;32m     23\u001b[0m \u001b[1;32mfrom\u001b[0m \u001b[0mdash_prep\u001b[0m \u001b[1;32mimport\u001b[0m \u001b[0mlayouts\u001b[0m \u001b[1;32mas\u001b[0m \u001b[0mlayout\u001b[0m\u001b[1;33m,\u001b[0m \u001b[0mcallbacks\u001b[0m\u001b[1;33m\u001b[0m\u001b[1;33m\u001b[0m\u001b[0m\n",
      "\u001b[1;31mModuleNotFoundError\u001b[0m: No module named 'src'"
     ]
    }
   ],
   "source": [
    "#Exploratory Data Analysis (EDA)\n",
    "#Created 06/20/22 10:00am\n",
    "#Author: Kahin Akram Hassan\n",
    "\n",
    "#====================================Docs=====================================\n",
    "%matplotlib inline\n",
    "import sys\n",
    "import plotly.express as px\n",
    "import plotly.graph_objects as go\n",
    "import plotly.figure_factory as ff\n",
    "import matplotlib.pyplot as plt\n",
    "import numpy as np\n",
    "\n",
    "#Dash \n",
    "from dash import Dash, html, dcc, Input, Output\n",
    "import dash_bootstrap_components as dbc\n",
    "import geopandas as geopd\n",
    "import yaml\n",
    "\n",
    "sys.path.append(\"../\")\n",
    "from src.data_prep import data_helpers as data\n",
    "#Dash layouts and callbacks\n",
    "from src.dash_prep import layouts as layout, callbacks"
   ]
  },
  {
   "cell_type": "code",
   "execution_count": null,
   "metadata": {},
   "outputs": [],
   "source": [
    "app = Dash(\n",
    "    __name__,\n",
    "    suppress_callback_exceptions=True,\n",
    "    external_stylesheets=[dbc.themes.ZEPHYR],\n",
    "    meta_tags=[{\n",
    "        'name':'viewport',\n",
    "        'content':'width=device-width, initial-scale=1'\n",
    "    }]\n",
    ")\n",
    "\n",
    "#Load the navbar \n",
    "navbar = layout.navbar\n",
    "#Dynamic part of the app\n",
    "content = html.Div(id=\"page-content\")\n",
    "#Set the app layout \n",
    "app.layout = dbc.Container(children=[\n",
    "    dcc.Location(id=\"url\",refresh=False),\n",
    "    navbar,\n",
    "    content\n",
    "], fluid=False)\n",
    "\n"
   ]
  },
  {
   "cell_type": "code",
   "execution_count": null,
   "metadata": {},
   "outputs": [],
   "source": [
    "# Fetch and load the data\n",
    "data.load_housing_data()\n",
    "housing = data.read_csv_file()"
   ]
  },
  {
   "cell_type": "code",
   "execution_count": null,
   "metadata": {},
   "outputs": [],
   "source": [
    "# Split the data into train and test sets\n",
    "train_set, test_set = data.split_train_test_id(housing,0.2,'id')\n",
    "print(len(train_set), 'Train + ', len(test_set), 'test')"
   ]
  },
  {
   "cell_type": "code",
   "execution_count": null,
   "metadata": {},
   "outputs": [],
   "source": [
    "# Stratified sampling based on the income category\n",
    "strat_train_set, strat_test_set = data.stratisfied_split_train_test(housing,0.2,\"income_cat\")"
   ]
  },
  {
   "cell_type": "code",
   "execution_count": null,
   "metadata": {},
   "outputs": [],
   "source": [
    "housing = strat_train_set.copy()"
   ]
  },
  {
   "cell_type": "code",
   "execution_count": null,
   "metadata": {},
   "outputs": [],
   "source": [
    "with open(\"../config/mapbox_token.yml\",\"r\") as token:\n",
    "    mapbox_token = yaml.load(token,Loader=yaml.FullLoader)\n",
    "    "
   ]
  },
  {
   "cell_type": "code",
   "execution_count": null,
   "metadata": {},
   "outputs": [],
   "source": [
    "    \n",
    "px.set_mapbox_access_token(mapbox_token)\n",
    "\n",
    "fig = px.scatter_mapbox(\n",
    "    housing, \n",
    "    lat=\"latitude\", \n",
    "    lon=\"longitude\",\n",
    "    color=\"median_house_value\", \n",
    "    size=housing[\"population\"]/100, #district's population scaled. \n",
    "    color_continuous_scale=px.colors.cyclical.IceFire, \n",
    "    size_max=15,\n",
    "    zoom=4,\n",
    "    opacity=0.5,\n",
    "    width=800,\n",
    "    center=dict(\n",
    "    lat=37.5,\n",
    "    lon=-120.0\n",
    "    ),\n",
    ")\n",
    "fig.show()"
   ]
  },
  {
   "cell_type": "code",
   "execution_count": null,
   "metadata": {},
   "outputs": [],
   "source": [
    "# Let's look into the Correlations \n",
    "# First calculate the correlations of the df \n",
    "df_corr = housing.corr()\n",
    "\n",
    "#mask only half of the heatmap\n",
    "mask = np.triu(np.ones_like(df_corr, dtype=bool))\n",
    "df_corr = df_corr.mask(mask)\n",
    "df_corr.drop(['id','longitude','latitude'],axis=1,inplace=True)\n",
    "df_corr.drop(['id','longitude','latitude'],axis=0,inplace=True)\n",
    "z = np.array(df_corr)"
   ]
  },
  {
   "cell_type": "code",
   "execution_count": null,
   "metadata": {},
   "outputs": [],
   "source": [
    "\n",
    "fig = ff.create_annotated_heatmap(\n",
    "    x=df_corr.columns.values.tolist(),\n",
    "    y=df_corr.index.values.tolist(),\n",
    "    z=z,\n",
    "    annotation_text = np.around(z, decimals=2),\n",
    "    colorscale='rdBu',\n",
    "    showscale=True,\n",
    "    reversescale=True,\n",
    "    \n",
    ")\n",
    "fig.update_xaxes(side=\"bottom\")\n",
    "fig.update_layout(\n",
    "    title_text='Correlation between variables for train dataset', \n",
    "    title_x=0.5, \n",
    "    width=1200, \n",
    "    height=400,\n",
    "    xaxis_showgrid=False,\n",
    "    yaxis_showgrid=False,\n",
    "    xaxis_zeroline=False,\n",
    "    yaxis_zeroline=False,\n",
    "    yaxis_autorange='reversed',\n",
    "    template='plotly_dark'\n",
    ")\n",
    "\n",
    "\n",
    "fig.show()"
   ]
  },
  {
   "cell_type": "code",
   "execution_count": null,
   "metadata": {},
   "outputs": [],
   "source": [
    "if __name__=='__main__':\n",
    "    app.run_server(port=8050, use_reloader=False)"
   ]
  }
 ],
 "metadata": {
  "kernelspec": {
   "display_name": "Python 3.9.12 ('cali')",
   "language": "python",
   "name": "python3"
  },
  "language_info": {
   "codemirror_mode": {
    "name": "ipython",
    "version": 3
   },
   "file_extension": ".py",
   "mimetype": "text/x-python",
   "name": "python",
   "nbconvert_exporter": "python",
   "pygments_lexer": "ipython3",
   "version": "3.9.12"
  },
  "orig_nbformat": 4,
  "vscode": {
   "interpreter": {
    "hash": "b22a17daf8bff8053186f3f9acde9579fc5d550bd00397df2457ac566fe48108"
   }
  }
 },
 "nbformat": 4,
 "nbformat_minor": 2
}
