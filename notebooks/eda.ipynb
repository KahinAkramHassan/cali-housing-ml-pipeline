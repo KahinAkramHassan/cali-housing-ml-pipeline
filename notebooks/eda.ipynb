{
 "cells": [
  {
   "cell_type": "code",
   "execution_count": null,
   "metadata": {},
   "outputs": [],
   "source": [
    "#Exploratory Data Analysis (EDA)\n",
    "#Created 06/20/22 10:00am\n",
    "#Author: Kahin Akram Hassan\n",
    "\n",
    "#====================================Docs=====================================\n",
    "%matplotlib inline\n",
    "import sys\n",
    "import plotly.express as px\n",
    "import matplotlib.pyplot as plt\n",
    "\n",
    "#Dash \n",
    "from dash import Dash, html, dcc, Input, Output, callback\n",
    "import dash_bootstrap_components as dbc\n",
    "import geopandas as geopd\n",
    "\n",
    "\n",
    "sys.path.append(\"../\")\n",
    "from src.data_prep import data_helpers as data\n",
    "#Dash layouts and callbacks \n",
    "from src.dash_prep import layouts as layout, callbacks"
   ]
  },
  {
   "cell_type": "code",
   "execution_count": null,
   "metadata": {},
   "outputs": [],
   "source": [
    "app = Dash(\n",
    "    __name__,\n",
    "    suppress_callback_exceptions=True,\n",
    "    external_stylesheets=[dbc.themes.ZEPHYR],\n",
    "    meta_tags=[{\n",
    "        'name':'viewport',\n",
    "        'content':'width=device-width, initial-scale=1'\n",
    "    }]\n",
    ")\n",
    "\n",
    "#Load the navbar \n",
    "navbar = layout.navbar\n",
    "#Dynamic part of the app\n",
    "content = html.Div(id=\"page-content\")\n",
    "#Set the app layout \n",
    "app.layout = dbc.Container(children=[\n",
    "    dcc.Location(id=\"url\",refresh=False),\n",
    "    navbar,\n",
    "    content\n",
    "], fluid=False)\n",
    "\n",
    "\n",
    "@callback(\n",
    "    Output(\"page-content\", \"children\"), \n",
    "    [Input(\"url\", \"pathname\")]\n",
    ")\n",
    "def page_routing(pathname):\n",
    "    \n",
    "    if pathname == '/':\n",
    "        return layout.home_page\n",
    "    \n",
    "    return layout.page_not_found\n",
    "\n",
    "\n",
    "if __name__=='__main__':\n",
    "    app.run_server(port=8050, use_reloader=False)"
   ]
  },
  {
   "cell_type": "code",
   "execution_count": null,
   "metadata": {},
   "outputs": [],
   "source": [
    "# Fetch and load the data\n",
    "data.load_housing_data()\n",
    "housing = data.read_csv_file()"
   ]
  },
  {
   "cell_type": "code",
   "execution_count": null,
   "metadata": {},
   "outputs": [],
   "source": [
    "# Split the data into train and test sets\n",
    "train_set, test_set = data.split_train_test_id(housing,0.2,'id')\n",
    "print(len(train_set), 'Train + ', len(test_set), 'test')"
   ]
  },
  {
   "cell_type": "code",
   "execution_count": null,
   "metadata": {},
   "outputs": [],
   "source": [
    "# Stratified sampling based on the income category\n",
    "strat_train_set, strat_test_set = data.stratisfied_split_train_test(housing,0.2,\"income_cat\")"
   ]
  },
  {
   "cell_type": "code",
   "execution_count": null,
   "metadata": {},
   "outputs": [],
   "source": []
  }
 ],
 "metadata": {
  "kernelspec": {
   "display_name": "Python 3.9.12 ('cali')",
   "language": "python",
   "name": "python3"
  },
  "language_info": {
   "codemirror_mode": {
    "name": "ipython",
    "version": 3
   },
   "file_extension": ".py",
   "mimetype": "text/x-python",
   "name": "python",
   "nbconvert_exporter": "python",
   "pygments_lexer": "ipython3",
   "version": "3.9.12"
  },
  "orig_nbformat": 4,
  "vscode": {
   "interpreter": {
    "hash": "b22a17daf8bff8053186f3f9acde9579fc5d550bd00397df2457ac566fe48108"
   }
  }
 },
 "nbformat": 4,
 "nbformat_minor": 2
}
